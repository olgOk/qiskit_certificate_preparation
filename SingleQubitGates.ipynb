{
 "cells": [
  {
   "cell_type": "code",
   "execution_count": 1,
   "metadata": {},
   "outputs": [],
   "source": [
    "from qiskit import QuantumCircuit, assemble, Aer\n",
    "from math import pi, sqrt\n",
    "from qiskit.visualization import plot_bloch_multivector, plot_histogram\n",
    "sim = Aer.get_backend('aer_simulator')\n"
   ]
  },
  {
   "cell_type": "code",
   "execution_count": 3,
   "metadata": {},
   "outputs": [
    {
     "data": {
      "text/plain": [
       "array([0.+0.j, 1.+0.j])"
      ]
     },
     "execution_count": 3,
     "metadata": {},
     "output_type": "execute_result"
    }
   ],
   "source": [
    "qc = QuantumCircuit(1)\n",
    "qc.x(0)\n",
    "qc.draw()\n",
    "qc.save_statevector()\n",
    "qobj = assemble(qc)\n",
    "state = sim.run(qobj).result().get_statevector()\n",
    "state"
   ]
  },
  {
   "cell_type": "code",
   "execution_count": 4,
   "metadata": {},
   "outputs": [
    {
     "data": {
      "text/html": [
       "<pre style=\"word-wrap: normal;white-space: pre;background: #fff0;line-height: 1.1;font-family: &quot;Courier New&quot;,Courier,monospace\">     ┌──────────────────────────────┐┌───┐┌─┐\n",
       "  q: ┤ Initialize(0.70711,-0.70711) ├┤ H ├┤M├\n",
       "     └──────────────────────────────┘└───┘└╥┘\n",
       "c: 1/══════════════════════════════════════╩═\n",
       "                                           0 </pre>"
      ],
      "text/plain": [
       "     ┌──────────────────────────────┐┌───┐┌─┐\n",
       "  q: ┤ Initialize(0.70711,-0.70711) ├┤ H ├┤M├\n",
       "     └──────────────────────────────┘└───┘└╥┘\n",
       "c: 1/══════════════════════════════════════╩═\n",
       "                                           0 "
      ]
     },
     "execution_count": 4,
     "metadata": {},
     "output_type": "execute_result"
    }
   ],
   "source": [
    "#  Create the X-measurement function:\n",
    "def x_measurement(qc, qubit, cbit):\n",
    "    \"\"\"Measure 'qubit' in the X-basis, and store the result in 'cbit'\"\"\"\n",
    "    qc.h(qubit)\n",
    "    qc.measure(qubit, cbit)\n",
    "    return qc\n",
    "\n",
    "initial_state = [1/sqrt(2), -1/sqrt(2)]\n",
    "# Initialize our qubit and measure it\n",
    "qc = QuantumCircuit(1,1)\n",
    "qc.initialize(initial_state, 0)\n",
    "x_measurement(qc, 0, 0)  # measure qubit 0 to classical bit 0\n",
    "qc.draw()"
   ]
  },
  {
   "cell_type": "code",
   "execution_count": 5,
   "metadata": {},
   "outputs": [
    {
     "data": {
      "image/png": "[encoded data removed]",
      "text/plain": [
       "<Figure size 504x360 with 1 Axes>"
      ]
     },
     "execution_count": 5,
     "metadata": {},
     "output_type": "execute_result"
    }
   ],
   "source": [
    "qobj = assemble(qc)  # Assemble circuit into a Qobj that can be run\n",
    "counts = sim.run(qobj).result().get_counts()  # Do the simulation, returning the state vector\n",
    "plot_histogram(counts)  # Display the output on measurement of state vector"
   ]
  },
  {
   "cell_type": "code",
   "execution_count": 10,
   "metadata": {},
   "outputs": [
    {
     "data": {
      "text/html": [
       "<pre style=\"word-wrap: normal;white-space: pre;background: #fff0;line-height: 1.1;font-family: &quot;Courier New&quot;,Courier,monospace\">          ┌────────┐ ┌───┐  ░ ┌─┐         \n",
       "  q_0: |0>┤ P(π/4) ├─┤ I ├──░─┤M├─────────\n",
       "          └─┬───┬──┘┌┴───┴┐ ░ └╥┘┌─┐      \n",
       "  q_1: |0>──┤ S ├───┤ Tdg ├─░──╫─┤M├──────\n",
       "           ┌┴───┴┐  └─────┘ ░  ║ └╥┘┌─┐   \n",
       "  q_2: |0>─┤ Sdg ├──────────░──╫──╫─┤M├───\n",
       "           └┬───┬┘          ░  ║  ║ └╥┘┌─┐\n",
       "  q_3: |0>──┤ T ├───────────░──╫──╫──╫─┤M├\n",
       "            └───┘           ░  ║  ║  ║ └╥┘\n",
       "meas: 0 4/═════════════════════╩══╩══╩══╩═\n",
       "                               0  1  2  3 </pre>"
      ],
      "text/plain": [
       "          ┌────────┐ ┌───┐  ░ ┌─┐         \n",
       "  q_0: |0>┤ P(π/4) ├─┤ I ├──░─┤M├─────────\n",
       "          └─┬───┬──┘┌┴───┴┐ ░ └╥┘┌─┐      \n",
       "  q_1: |0>──┤ S ├───┤ Tdg ├─░──╫─┤M├──────\n",
       "           ┌┴───┴┐  └─────┘ ░  ║ └╥┘┌─┐   \n",
       "  q_2: |0>─┤ Sdg ├──────────░──╫──╫─┤M├───\n",
       "           └┬───┬┘          ░  ║  ║ └╥┘┌─┐\n",
       "  q_3: |0>──┤ T ├───────────░──╫──╫──╫─┤M├\n",
       "            └───┘           ░  ║  ║  ║ └╥┘\n",
       "meas: 0 4/═════════════════════╩══╩══╩══╩═\n",
       "                               0  1  2  3 "
      ]
     },
     "execution_count": 10,
     "metadata": {},
     "output_type": "execute_result"
    }
   ],
   "source": [
    "# an example of p, I-gates\n",
    "\n",
    "qc = QuantumCircuit(4)\n",
    "qc.p(pi/4,0)\n",
    "qc.i(0)\n",
    "qc.s(1)\n",
    "qc.sdg(2)\n",
    "qc.t(3)\n",
    "qc.tdg(1)\n",
    "qc.measure_all()\n",
    "qc.draw(initial_state=True)"
   ]
  },
  {
   "cell_type": "code",
   "execution_count": 15,
   "metadata": {},
   "outputs": [
    {
     "data": {
      "text/html": [
       "<pre style=\"word-wrap: normal;white-space: pre;background: #fff0;line-height: 1.1;font-family: &quot;Courier New&quot;,Courier,monospace\">   ┌────────────┐\n",
       "q: ┤ U(π/2,0,π) ├\n",
       "   └────────────┘</pre>"
      ],
      "text/plain": [
       "   ┌────────────┐\n",
       "q: ┤ U(π/2,0,π) ├\n",
       "   └────────────┘"
      ]
     },
     "execution_count": 15,
     "metadata": {},
     "output_type": "execute_result"
    }
   ],
   "source": [
    "# Let's have U-gate transform a |0> to |+> state\n",
    "qc1 = QuantumCircuit(1)\n",
    "qc1.u(pi/2, 0, pi, 0)\n",
    "qc1.draw()"
   ]
  },
  {
   "cell_type": "code",
   "execution_count": 16,
   "metadata": {},
   "outputs": [
    {
     "data": {
      "text/plain": [
       "array([0.70710678+0.j, 0.70710678+0.j])"
      ]
     },
     "execution_count": 16,
     "metadata": {},
     "output_type": "execute_result"
    }
   ],
   "source": [
    "# Let's see the result\n",
    "qc1.save_statevector()\n",
    "qobj1 = assemble(qc1)\n",
    "state = sim.run(qobj1).result().get_statevector()\n",
    "state"
   ]
  },
  {
   "cell_type": "code",
   "execution_count": null,
   "metadata": {},
   "outputs": [],
   "source": []
  }
 ],
 "metadata": {
  "kernelspec": {
   "display_name": "Python 3",
   "language": "python",
   "name": "python3"
  },
  "language_info": {
   "codemirror_mode": {
    "name": "ipython",
    "version": 3
   },
   "file_extension": ".py",
   "mimetype": "text/x-python",
   "name": "python",
   "nbconvert_exporter": "python",
   "pygments_lexer": "ipython3",
   "version": "3.8.3"
  }
 },
 "nbformat": 4,
 "nbformat_minor": 4
}
