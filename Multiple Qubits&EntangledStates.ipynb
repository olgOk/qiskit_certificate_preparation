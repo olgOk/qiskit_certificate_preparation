{
 "cells": [
  {
   "cell_type": "code",
   "execution_count": 1,
   "metadata": {},
   "outputs": [],
   "source": [
    "from qiskit import QuantumCircuit, Aer, assemble\n",
    "import numpy as np\n",
    "from qiskit.visualization import plot_histogram, plot_bloch_multivector"
   ]
  },
  {
   "cell_type": "code",
   "execution_count": 2,
   "metadata": {},
   "outputs": [
    {
     "data": {
      "text/html": [
       "<pre style=\"word-wrap: normal;white-space: pre;background: #fff0;line-height: 1.1;font-family: &quot;Courier New&quot;,Courier,monospace\">        ┌───┐\n",
       "q_0: |0>┤ H ├\n",
       "        ├───┤\n",
       "q_1: |0>┤ H ├\n",
       "        ├───┤\n",
       "q_2: |0>┤ H ├\n",
       "        └───┘</pre>"
      ],
      "text/plain": [
       "        ┌───┐\n",
       "q_0: |0>┤ H ├\n",
       "        ├───┤\n",
       "q_1: |0>┤ H ├\n",
       "        ├───┤\n",
       "q_2: |0>┤ H ├\n",
       "        └───┘"
      ]
     },
     "execution_count": 2,
     "metadata": {},
     "output_type": "execute_result"
    }
   ],
   "source": [
    "n=3\n",
    "qc = QuantumCircuit(n)\n",
    "\n",
    "for q in range(n):\n",
    "    qc.h(q)\n",
    "\n",
    "qc.draw(initial_state=True)"
   ]
  },
  {
   "cell_type": "code",
   "execution_count": 3,
   "metadata": {},
   "outputs": [
    {
     "data": {
      "text/latex": [
       "$$\n",
       "\\text{Statevector} = \n",
       "\\begin{bmatrix}\n",
       "\\tfrac{1}{\\sqrt{8}} & \\tfrac{1}{\\sqrt{8}} & \\tfrac{1}{\\sqrt{8}} & \\tfrac{1}{\\sqrt{8}} & \\tfrac{1}{\\sqrt{8}} & \\tfrac{1}{\\sqrt{8}} & \\tfrac{1}{\\sqrt{8}} & \\tfrac{1}{\\sqrt{8}}  \\\\\n",
       " \\end{bmatrix}\n",
       "$$"
      ],
      "text/plain": [
       "<IPython.core.display.Latex object>"
      ]
     },
     "execution_count": 3,
     "metadata": {},
     "output_type": "execute_result"
    }
   ],
   "source": [
    "svsim = Aer.get_backend('aer_simulator')\n",
    "qc.save_statevector()\n",
    "qobj = assemble(qc)\n",
    "final_state = svsim.run(qobj).result().get_statevector()\n",
    "\n",
    "# In Jupyter Notebooks we can display this nicely using Latex.\n",
    "# If not using Jupyter Notebooks you may need to remove the \n",
    "# array_to_latex function and use print(final_state) instead.\n",
    "from qiskit.visualization import array_to_latex\n",
    "array_to_latex(final_state, prefix=\"\\\\text{Statevector} = \")"
   ]
  },
  {
   "cell_type": "code",
   "execution_count": 4,
   "metadata": {},
   "outputs": [
    {
     "data": {
      "text/html": [
       "<pre style=\"word-wrap: normal;white-space: pre;background: #fff0;line-height: 1.1;font-family: &quot;Courier New&quot;,Courier,monospace\">          ┌───┐ ░ ┌─┐   \n",
       "  q_0: |0>┤ H ├─░─┤M├───\n",
       "          ├───┤ ░ └╥┘┌─┐\n",
       "  q_1: |0>┤ X ├─░──╫─┤M├\n",
       "          └───┘ ░  ║ └╥┘\n",
       "meas: 0 2/═════════╩══╩═\n",
       "                   0  1 </pre>"
      ],
      "text/plain": [
       "          ┌───┐ ░ ┌─┐   \n",
       "  q_0: |0>┤ H ├─░─┤M├───\n",
       "          ├───┤ ░ └╥┘┌─┐\n",
       "  q_1: |0>┤ X ├─░──╫─┤M├\n",
       "          └───┘ ░  ║ └╥┘\n",
       "meas: 0 2/═════════╩══╩═\n",
       "                   0  1 "
      ]
     },
     "execution_count": 4,
     "metadata": {},
     "output_type": "execute_result"
    }
   ],
   "source": [
    "#  Single Qubit Gates on Multi-Qubit Statevectors \n",
    "\n",
    "qc1 = QuantumCircuit(2)\n",
    "qc1.h(0)\n",
    "qc1.x(1)\n",
    "qc1.measure_all()\n",
    "qc1.draw(initial_state=True)\n"
   ]
  },
  {
   "cell_type": "code",
   "execution_count": 5,
   "metadata": {},
   "outputs": [],
   "source": [
    "simulator = Aer.get_backend('aer_simulator')\n",
    "qc1.save_statevector()\n",
    "qobj = assemble(qc1)\n",
    "final_statevector = simulator.run(qobj).result().get_statevector()"
   ]
  },
  {
   "cell_type": "code",
   "execution_count": 6,
   "metadata": {},
   "outputs": [
    {
     "data": {
      "text/plain": [
       "array([0.+0.j, 0.+0.j, 1.+0.j, 0.+0.j])"
      ]
     },
     "execution_count": 6,
     "metadata": {},
     "output_type": "execute_result"
    }
   ],
   "source": [
    "final_statevector"
   ]
  },
  {
   "cell_type": "code",
   "execution_count": 7,
   "metadata": {},
   "outputs": [
    {
     "data": {
      "text/latex": [
       "$$\n",
       "\\text{Statevector} = \n",
       "\\begin{bmatrix}\n",
       "0 & 0 & 1 & 0  \\\\\n",
       " \\end{bmatrix}\n",
       "$$"
      ],
      "text/plain": [
       "<IPython.core.display.Latex object>"
      ]
     },
     "execution_count": 7,
     "metadata": {},
     "output_type": "execute_result"
    }
   ],
   "source": [
    "array_to_latex(final_statevector, prefix=\"\\\\text{Statevector} = \")"
   ]
  },
  {
   "cell_type": "code",
   "execution_count": 8,
   "metadata": {},
   "outputs": [
    {
     "data": {
      "text/html": [
       "<pre style=\"word-wrap: normal;white-space: pre;background: #fff0;line-height: 1.1;font-family: &quot;Courier New&quot;,Courier,monospace\">          \n",
       "q_0: ─────\n",
       "     ┌───┐\n",
       "q_1: ┤ X ├\n",
       "     └───┘</pre>"
      ],
      "text/plain": [
       "          \n",
       "q_0: ─────\n",
       "     ┌───┐\n",
       "q_1: ┤ X ├\n",
       "     └───┘"
      ]
     },
     "execution_count": 8,
     "metadata": {},
     "output_type": "execute_result"
    }
   ],
   "source": [
    "# applying gate on one qubit\n",
    "\n",
    "qc2 = QuantumCircuit(2)\n",
    "qc2.x(1)\n",
    "qc2.draw()"
   ]
  },
  {
   "cell_type": "code",
   "execution_count": 9,
   "metadata": {},
   "outputs": [
    {
     "data": {
      "text/latex": [
       "$$\n",
       "\\text{Circuit = } \n",
       "\\begin{bmatrix}\n",
       "0 & 0 & 1 & 0  \\\\\n",
       " 0 & 0 & 0 & 1  \\\\\n",
       " 1 & 0 & 0 & 0  \\\\\n",
       " 0 & 1 & 0 & 0  \\\\\n",
       " \\end{bmatrix}\n",
       "$$"
      ],
      "text/plain": [
       "<IPython.core.display.Latex object>"
      ]
     },
     "execution_count": 9,
     "metadata": {},
     "output_type": "execute_result"
    }
   ],
   "source": [
    "# Simulate the unitary\n",
    "qc2.save_unitary()\n",
    "qobj = assemble(qc2)\n",
    "unitary = simulator.run(qobj).result().get_unitary()\n",
    "# Display the results:\n",
    "array_to_latex(unitary, prefix=\"\\\\text{Circuit = } \")"
   ]
  },
  {
   "cell_type": "markdown",
   "metadata": {},
   "source": [
    "2.1 Quick Exercises:\n",
    "\n",
    "1. Calculate the single qubit unitary (U) created by the sequence of gates: U=XZH. Use Qiskit's Aer simulator to check your results.\n",
    "\n",
    "2. Try changing the gates in the circuit above. Calculate their kronecker product, and then check your answer using the Aer simulator."
   ]
  },
  {
   "cell_type": "code",
   "execution_count": 11,
   "metadata": {},
   "outputs": [
    {
     "data": {
      "text/html": [
       "<pre style=\"word-wrap: normal;white-space: pre;background: #fff0;line-height: 1.1;font-family: &quot;Courier New&quot;,Courier,monospace\">      ┌───┐┌───┐┌───┐\n",
       "q: |0>┤ X ├┤ Z ├┤ H ├\n",
       "      └───┘└───┘└───┘</pre>"
      ],
      "text/plain": [
       "      ┌───┐┌───┐┌───┐\n",
       "q: |0>┤ X ├┤ Z ├┤ H ├\n",
       "      └───┘└───┘└───┘"
      ]
     },
     "execution_count": 11,
     "metadata": {},
     "output_type": "execute_result"
    }
   ],
   "source": [
    "# creating U=XZH state\n",
    "\n",
    "qc_ex1 = QuantumCircuit(1)\n",
    "qc_ex1.x(0)\n",
    "qc_ex1.z(0)\n",
    "qc_ex1.h(0)\n",
    "qc_ex1.draw(initial_state=True)"
   ]
  },
  {
   "cell_type": "code",
   "execution_count": 12,
   "metadata": {},
   "outputs": [
    {
     "data": {
      "text/latex": [
       "$$\n",
       "\\text{Circuit = } \n",
       "\\begin{bmatrix}\n",
       "-\\tfrac{1}{\\sqrt{2}} & \\tfrac{1}{\\sqrt{2}}  \\\\\n",
       " \\tfrac{1}{\\sqrt{2}} & \\tfrac{1}{\\sqrt{2}}  \\\\\n",
       " \\end{bmatrix}\n",
       "$$"
      ],
      "text/plain": [
       "<IPython.core.display.Latex object>"
      ]
     },
     "execution_count": 12,
     "metadata": {},
     "output_type": "execute_result"
    }
   ],
   "source": [
    "qc_ex1.save_unitary()\n",
    "qobj = assemble(qc_ex1)\n",
    "unitary = simulator.run(qobj).result().get_unitary()\n",
    "array_to_latex(unitary, prefix=\"\\\\text{Circuit = } \")"
   ]
  },
  {
   "cell_type": "code",
   "execution_count": 16,
   "metadata": {},
   "outputs": [
    {
     "data": {
      "text/html": [
       "<pre style=\"word-wrap: normal;white-space: pre;background: #fff0;line-height: 1.1;font-family: &quot;Courier New&quot;,Courier,monospace\">      ┌───┐┌───┐┌───┐\n",
       "q: |0>┤ H ├┤ Z ├┤ X ├\n",
       "      └───┘└───┘└───┘</pre>"
      ],
      "text/plain": [
       "      ┌───┐┌───┐┌───┐\n",
       "q: |0>┤ H ├┤ Z ├┤ X ├\n",
       "      └───┘└───┘└───┘"
      ]
     },
     "execution_count": 16,
     "metadata": {},
     "output_type": "execute_result"
    }
   ],
   "source": [
    "# changing the order of gates\n",
    "\n",
    "qc_ex2 = QuantumCircuit(1)\n",
    "qc_ex2.h(0)\n",
    "qc_ex2.z(0)\n",
    "qc_ex2.x(0)\n",
    "qc_ex2.draw(initial_state=True)\n"
   ]
  },
  {
   "cell_type": "code",
   "execution_count": 17,
   "metadata": {},
   "outputs": [
    {
     "data": {
      "text/latex": [
       "$$\n",
       "\\text{Circuit = } \n",
       "\\begin{bmatrix}\n",
       "-\\tfrac{1}{\\sqrt{2}} & \\tfrac{1}{\\sqrt{2}}  \\\\\n",
       " \\tfrac{1}{\\sqrt{2}} & \\tfrac{1}{\\sqrt{2}}  \\\\\n",
       " \\end{bmatrix}\n",
       "$$"
      ],
      "text/plain": [
       "<IPython.core.display.Latex object>"
      ]
     },
     "execution_count": 17,
     "metadata": {},
     "output_type": "execute_result"
    }
   ],
   "source": [
    "qc_ex2.save_unitary()\n",
    "qobj = assemble(qc_ex2)\n",
    "unitary = simulator.run(qobj).result().get_unitary()\n",
    "\n",
    "array_to_latex(unitary, prefix=\"\\\\text{Circuit = } \")"
   ]
  },
  {
   "cell_type": "code",
   "execution_count": 20,
   "metadata": {},
   "outputs": [
    {
     "data": {
      "text/html": [
       "<pre style=\"word-wrap: normal;white-space: pre;background: #fff0;line-height: 1.1;font-family: &quot;Courier New&quot;,Courier,monospace\">      ┌───┐┌───┐┌───┐\n",
       "q: |0>┤ Z ├┤ X ├┤ H ├\n",
       "      └───┘└───┘└───┘</pre>"
      ],
      "text/plain": [
       "      ┌───┐┌───┐┌───┐\n",
       "q: |0>┤ Z ├┤ X ├┤ H ├\n",
       "      └───┘└───┘└───┘"
      ]
     },
     "execution_count": 20,
     "metadata": {},
     "output_type": "execute_result"
    }
   ],
   "source": [
    "# changing the order of gates\n",
    "\n",
    "qc_ex3 = QuantumCircuit(1)\n",
    "qc_ex3.z(0)\n",
    "qc_ex3.x(0)\n",
    "qc_ex3.h(0)\n",
    "qc_ex3.draw(initial_state=True)"
   ]
  },
  {
   "cell_type": "code",
   "execution_count": 21,
   "metadata": {},
   "outputs": [
    {
     "data": {
      "text/latex": [
       "$$\n",
       "\\text{Circuit = } \n",
       "\\begin{bmatrix}\n",
       "\\tfrac{1}{\\sqrt{2}} & -\\tfrac{1}{\\sqrt{2}}  \\\\\n",
       " -\\tfrac{1}{\\sqrt{2}} & -\\tfrac{1}{\\sqrt{2}}  \\\\\n",
       " \\end{bmatrix}\n",
       "$$"
      ],
      "text/plain": [
       "<IPython.core.display.Latex object>"
      ]
     },
     "execution_count": 21,
     "metadata": {},
     "output_type": "execute_result"
    }
   ],
   "source": [
    "qc_ex3.save_unitary()\n",
    "qobj = assemble(qc_ex3)\n",
    "unitary = simulator.run(qobj).result().get_unitary()\n",
    "\n",
    "array_to_latex(unitary, prefix=\"\\\\text{Circuit = } \")"
   ]
  },
  {
   "cell_type": "markdown",
   "metadata": {},
   "source": [
    "## Multi-Qubit Gates"
   ]
  },
  {
   "cell_type": "code",
   "execution_count": 34,
   "metadata": {},
   "outputs": [
    {
     "data": {
      "text/latex": [
       "$$\n",
       "\\text{Statevector = }\n",
       "\\begin{bmatrix}\n",
       "\\tfrac{1}{\\sqrt{2}} & 0 & 0 & \\tfrac{1}{\\sqrt{2}}  \\\\\n",
       " \\end{bmatrix}\n",
       "$$"
      ],
      "text/plain": [
       "<IPython.core.display.Latex object>"
      ]
     },
     "execution_count": 34,
     "metadata": {},
     "output_type": "execute_result"
    }
   ],
   "source": [
    "qc3 = QuantumCircuit(2)\n",
    "\n",
    "qc3.h(0)\n",
    "qc3.cx(0,1)\n",
    "\n",
    "#  Let's see the result:\n",
    "svsim = Aer.get_backend('aer_simulator')\n",
    "qc3.save_statevector()\n",
    "qobj = assemble(qc3)\n",
    "final_state = svsim.run(qobj).result().get_statevector()\n",
    "# Print the statevector neatly:\n",
    "array_to_latex(final_state, prefix=\"\\\\text{Statevector = }\")"
   ]
  },
  {
   "cell_type": "code",
   "execution_count": 36,
   "metadata": {},
   "outputs": [
    {
     "data": {
      "image/png": "[encoded data removed]",
      "text/plain": [
       "<Figure size 504x360 with 1 Axes>"
      ]
     },
     "execution_count": 36,
     "metadata": {},
     "output_type": "execute_result"
    }
   ],
   "source": [
    "plot_histogram(svsim.run(qobj).result().get_counts())"
   ]
  },
  {
   "cell_type": "markdown",
   "metadata": {},
   "source": [
    "3.4 Exercise: \n",
    "\n",
    "1. Create a quantum circuit that produces the Bell state: 1√2(|01⟩+|10⟩). Use the statevector simulator to verify your result."
   ]
  },
  {
   "cell_type": "code",
   "execution_count": 110,
   "metadata": {},
   "outputs": [],
   "source": [
    "qc_ex4 = QuantumCircuit(2)\n",
    "\n",
    "qc_ex4.h(0)\n",
    "qc_ex4.x(1)\n",
    "qc_ex4.cx(0,1)\n",
    "\n",
    "qc_ex4.save_unitary()\n",
    "# qc_ex4.save_statevector()\n",
    "\n",
    "qobj = assemble(qc_ex4)\n",
    "# final_statevector= simulator.run(qobj).result().get_statevector()"
   ]
  },
  {
   "cell_type": "code",
   "execution_count": 111,
   "metadata": {},
   "outputs": [
    {
     "data": {
      "text/latex": [
       "$$\n",
       "\\text{Statevector = }\n",
       "\\begin{bmatrix}\n",
       "0 & \\tfrac{1}{\\sqrt{2}} & \\tfrac{1}{\\sqrt{2}} & 0  \\\\\n",
       " \\end{bmatrix}\n",
       "$$"
      ],
      "text/plain": [
       "<IPython.core.display.Latex object>"
      ]
     },
     "execution_count": 111,
     "metadata": {},
     "output_type": "execute_result"
    }
   ],
   "source": [
    "array_to_latex(final_statevector, prefix=\"\\\\text{Statevector = }\")"
   ]
  },
  {
   "cell_type": "code",
   "execution_count": 112,
   "metadata": {},
   "outputs": [
    {
     "data": {
      "text/latex": [
       "$$\n",
       "\\text{Circuit = } \n",
       "\\begin{bmatrix}\n",
       "\\tfrac{1}{\\sqrt{2}} & -\\tfrac{1}{\\sqrt{2}}  \\\\\n",
       " -\\tfrac{1}{\\sqrt{2}} & -\\tfrac{1}{\\sqrt{2}}  \\\\\n",
       " \\end{bmatrix}\n",
       "$$"
      ],
      "text/plain": [
       "<IPython.core.display.Latex object>"
      ]
     },
     "execution_count": 112,
     "metadata": {},
     "output_type": "execute_result"
    }
   ],
   "source": [
    "array_to_latex(unitary, prefix=\"\\\\text{Circuit = } \")"
   ]
  },
  {
   "cell_type": "code",
   "execution_count": null,
   "metadata": {},
   "outputs": [],
   "source": []
  }
 ],
 "metadata": {
  "kernelspec": {
   "display_name": "Python 3",
   "language": "python",
   "name": "python3"
  },
  "language_info": {
   "codemirror_mode": {
    "name": "ipython",
    "version": 3
   },
   "file_extension": ".py",
   "mimetype": "text/x-python",
   "name": "python",
   "nbconvert_exporter": "python",
   "pygments_lexer": "ipython3",
   "version": "3.8.3"
  }
 },
 "nbformat": 4,
 "nbformat_minor": 4
}
