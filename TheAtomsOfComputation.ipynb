{
 "cells": [
  {
   "cell_type": "code",
   "execution_count": 1,
   "metadata": {},
   "outputs": [],
   "source": [
    "from qiskit import QuantumCircuit, assemble, Aer\n",
    "from qiskit.visualization import plot_histogram"
   ]
  },
  {
   "cell_type": "code",
   "execution_count": null,
   "metadata": {},
   "outputs": [],
   "source": [
    "# creating a quantum circuit of 8 qubits\n",
    "\n",
    "qc = QuantumCircuit(8)"
   ]
  },
  {
   "cell_type": "code",
   "execution_count": null,
   "metadata": {},
   "outputs": [],
   "source": [
    "# measure all output qubits\n",
    "\n",
    "qc.measure_all()\n",
    "\n",
    "# draw the curcuit\n",
    "qc.draw(initial_state=True)"
   ]
  },
  {
   "cell_type": "code",
   "execution_count": 8,
   "metadata": {},
   "outputs": [
    {
     "ename": "NameError",
     "evalue": "name 'qc' is not defined",
     "output_type": "error",
     "traceback": [
      "\u001b[0;31m---------------------------------------------------------------------------\u001b[0m",
      "\u001b[0;31mNameError\u001b[0m                                 Traceback (most recent call last)",
      "\u001b[0;32m<ipython-input-8-c7887130911c>\u001b[0m in \u001b[0;36m<module>\u001b[0;34m\u001b[0m\n\u001b[1;32m      1\u001b[0m \u001b[0msim\u001b[0m \u001b[0;34m=\u001b[0m \u001b[0mAer\u001b[0m\u001b[0;34m.\u001b[0m\u001b[0mget_backend\u001b[0m\u001b[0;34m(\u001b[0m\u001b[0;34m'aer_simulator'\u001b[0m\u001b[0;34m)\u001b[0m\u001b[0;34m\u001b[0m\u001b[0;34m\u001b[0m\u001b[0m\n\u001b[0;32m----> 2\u001b[0;31m \u001b[0mresult\u001b[0m \u001b[0;34m=\u001b[0m \u001b[0msim\u001b[0m\u001b[0;34m.\u001b[0m\u001b[0mrun\u001b[0m\u001b[0;34m(\u001b[0m\u001b[0mqc\u001b[0m\u001b[0;34m)\u001b[0m\u001b[0;34m.\u001b[0m\u001b[0mresult\u001b[0m\u001b[0;34m(\u001b[0m\u001b[0;34m)\u001b[0m\u001b[0;34m\u001b[0m\u001b[0;34m\u001b[0m\u001b[0m\n\u001b[0m\u001b[1;32m      3\u001b[0m \u001b[0mcounts\u001b[0m \u001b[0;34m=\u001b[0m \u001b[0mresult\u001b[0m\u001b[0;34m.\u001b[0m\u001b[0mget_counts\u001b[0m\u001b[0;34m(\u001b[0m\u001b[0;34m)\u001b[0m\u001b[0;34m\u001b[0m\u001b[0;34m\u001b[0m\u001b[0m\n\u001b[1;32m      4\u001b[0m \u001b[0mplot_histogram\u001b[0m\u001b[0;34m(\u001b[0m\u001b[0mcounts\u001b[0m\u001b[0;34m)\u001b[0m\u001b[0;34m\u001b[0m\u001b[0;34m\u001b[0m\u001b[0m\n",
      "\u001b[0;31mNameError\u001b[0m: name 'qc' is not defined"
     ]
    }
   ],
   "source": [
    "sim = Aer.get_backend('aer_simulator') \n",
    "result = sim.run(qc).result()\n",
    "counts = result.get_counts()\n",
    "plot_histogram(counts)"
   ]
  },
  {
   "cell_type": "code",
   "execution_count": null,
   "metadata": {},
   "outputs": [],
   "source": [
    "qc1=QuantumCircuit(8)\n",
    "qc1.x(7)\n",
    "qc1.draw()"
   ]
  },
  {
   "cell_type": "code",
   "execution_count": null,
   "metadata": {},
   "outputs": [],
   "source": [
    "qc1.measure_all()"
   ]
  },
  {
   "cell_type": "code",
   "execution_count": null,
   "metadata": {},
   "outputs": [],
   "source": [
    "qc1.draw(initial_state=True)"
   ]
  },
  {
   "cell_type": "code",
   "execution_count": null,
   "metadata": {},
   "outputs": [],
   "source": [
    "simulator = Aer.get_backend('aer_simulator')\n",
    "results = simulator.run(qc1).result()\n",
    "counts = results.get_counts()\n",
    "plot_histogram(counts)"
   ]
  },
  {
   "cell_type": "code",
   "execution_count": null,
   "metadata": {},
   "outputs": [],
   "source": [
    "# encoding my age as bit string 28 = 00011100\n",
    "\n",
    "qc_age = QuantumCircuit(8)\n",
    "qc_age.x(2)\n",
    "qc_age.x(3)\n",
    "qc_age.x(4)\n",
    "qc_age.measure_all()\n",
    "\n",
    "results = simulator.run(qc_age).result()\n",
    "counts = results.get_counts()\n",
    "plot_histogram(counts)"
   ]
  },
  {
   "cell_type": "code",
   "execution_count": null,
   "metadata": {},
   "outputs": [],
   "source": [
    "# example of using CNOT gate - a quantum counterpart of XOR\n",
    "\n",
    "qc_cx = QuantumCircuit(2)\n",
    "qc_cx.cx(0,1)\n",
    "qc_cx.draw(initial_state=True)"
   ]
  },
  {
   "cell_type": "code",
   "execution_count": 2,
   "metadata": {},
   "outputs": [
    {
     "data": {
      "text/html": [
       "<pre style=\"word-wrap: normal;white-space: pre;background: #fff0;line-height: 1.1;font-family: &quot;Courier New&quot;,Courier,monospace\">        ┌───┐┌───┐┌─┐   \n",
       "q_0: |0>┤ X ├┤ X ├┤M├───\n",
       "        └───┘└─┬─┘└╥┘┌─┐\n",
       "q_1: |0>───────■───╫─┤M├\n",
       "                   ║ └╥┘\n",
       " c: 0 2/═══════════╩══╩═\n",
       "                   0  1 </pre>"
      ],
      "text/plain": [
       "        ┌───┐┌───┐┌─┐   \n",
       "q_0: |0>┤ X ├┤ X ├┤M├───\n",
       "        └───┘└─┬─┘└╥┘┌─┐\n",
       "q_1: |0>───────■───╫─┤M├\n",
       "                   ║ └╥┘\n",
       " c: 0 2/═══════════╩══╩═\n",
       "                   0  1 "
      ]
     },
     "execution_count": 2,
     "metadata": {},
     "output_type": "execute_result"
    }
   ],
   "source": [
    "qc2 = QuantumCircuit(2,2)\n",
    "qc2.x(0)\n",
    "qc2.cx(1,0)\n",
    "qc2.measure(0,0)\n",
    "qc2.measure(1,1)\n",
    "\n",
    "qc2.draw(initial_state=True)"
   ]
  },
  {
   "cell_type": "code",
   "execution_count": 3,
   "metadata": {},
   "outputs": [
    {
     "data": {
      "text/html": [
       "<pre style=\"word-wrap: normal;white-space: pre;background: #fff0;line-height: 1.1;font-family: &quot;Courier New&quot;,Courier,monospace\">          ┌───┐┌───┐┌─┐    ░ ┌─┐   \n",
       "  q_0: |0>┤ X ├┤ X ├┤M├────░─┤M├───\n",
       "          └───┘└─┬─┘└╥┘┌─┐ ░ └╥┘┌─┐\n",
       "  q_1: |0>───────■───╫─┤M├─░──╫─┤M├\n",
       "                     ║ └╥┘ ░  ║ └╥┘\n",
       "   c: 0 2/═══════════╩══╩═════╬══╬═\n",
       "                     0  1     ║  ║ \n",
       "                              ║  ║ \n",
       "meas: 0 2/════════════════════╩══╩═\n",
       "                              0  1 </pre>"
      ],
      "text/plain": [
       "          ┌───┐┌───┐┌─┐    ░ ┌─┐   \n",
       "  q_0: |0>┤ X ├┤ X ├┤M├────░─┤M├───\n",
       "          └───┘└─┬─┘└╥┘┌─┐ ░ └╥┘┌─┐\n",
       "  q_1: |0>───────■───╫─┤M├─░──╫─┤M├\n",
       "                     ║ └╥┘ ░  ║ └╥┘\n",
       "   c: 0 2/═══════════╩══╩═════╬══╬═\n",
       "                     0  1     ║  ║ \n",
       "                              ║  ║ \n",
       "meas: 0 2/════════════════════╩══╩═\n",
       "                              0  1 "
      ]
     },
     "execution_count": 3,
     "metadata": {},
     "output_type": "execute_result"
    }
   ],
   "source": [
    "qc2.measure_all()\n",
    "qc2.draw(initial_state=True)"
   ]
  },
  {
   "cell_type": "code",
   "execution_count": 4,
   "metadata": {},
   "outputs": [
    {
     "data": {
      "text/plain": [
       "<qiskit.circuit.instructionset.InstructionSet at 0x7f9b7889f2c0>"
      ]
     },
     "execution_count": 4,
     "metadata": {},
     "output_type": "execute_result"
    }
   ],
   "source": [
    "# an example of adding numbers in binary system\n",
    "qc_ha = QuantumCircuit(4,2)\n",
    "# encode inputs in qubits 0 and 1\n",
    "qc_ha.x(0) # For a=0, remove this line. For a=1, leave it.\n",
    "qc_ha.x(1) # For b=0, remove this line. For b=1, leave it.\n",
    "qc_ha.barrier()\n",
    "# use cnots to write the XOR of the inputs on qubit 2\n",
    "qc_ha.cx(0,2)\n",
    "qc_ha.cx(1,2)\n",
    "qc_ha.barrier()\n",
    "# extract outputs\n",
    "qc_ha.measure(2,0) # extract XOR value\n",
    "qc_ha.measure(3,1)\n"
   ]
  },
  {
   "cell_type": "code",
   "execution_count": 5,
   "metadata": {},
   "outputs": [
    {
     "data": {
      "text/html": [
       "<pre style=\"word-wrap: normal;white-space: pre;background: #fff0;line-height: 1.1;font-family: &quot;Courier New&quot;,Courier,monospace\">        ┌───┐ ░            ░       \n",
       "q_0: |0>┤ X ├─░───■────────░───────\n",
       "        ├───┤ ░   │        ░       \n",
       "q_1: |0>┤ X ├─░───┼────■───░───────\n",
       "        └───┘ ░ ┌─┴─┐┌─┴─┐ ░ ┌─┐   \n",
       "q_2: |0>──────░─┤ X ├┤ X ├─░─┤M├───\n",
       "              ░ └───┘└───┘ ░ └╥┘┌─┐\n",
       "q_3: |0>──────░────────────░──╫─┤M├\n",
       "              ░            ░  ║ └╥┘\n",
       " c: 0 2/══════════════════════╩══╩═\n",
       "                              0  1 </pre>"
      ],
      "text/plain": [
       "        ┌───┐ ░            ░       \n",
       "q_0: |0>┤ X ├─░───■────────░───────\n",
       "        ├───┤ ░   │        ░       \n",
       "q_1: |0>┤ X ├─░───┼────■───░───────\n",
       "        └───┘ ░ ┌─┴─┐┌─┴─┐ ░ ┌─┐   \n",
       "q_2: |0>──────░─┤ X ├┤ X ├─░─┤M├───\n",
       "              ░ └───┘└───┘ ░ └╥┘┌─┐\n",
       "q_3: |0>──────░────────────░──╫─┤M├\n",
       "              ░            ░  ║ └╥┘\n",
       " c: 0 2/══════════════════════╩══╩═\n",
       "                              0  1 "
      ]
     },
     "execution_count": 5,
     "metadata": {},
     "output_type": "execute_result"
    }
   ],
   "source": [
    "qc_ha.draw(initial_state=True)"
   ]
  },
  {
   "cell_type": "code",
   "execution_count": 6,
   "metadata": {},
   "outputs": [
    {
     "data": {
      "text/html": [
       "<pre style=\"word-wrap: normal;white-space: pre;background: #fff0;line-height: 1.1;font-family: &quot;Courier New&quot;,Courier,monospace\">     ┌───┐ ░                 ░       \n",
       "q_0: ┤ X ├─░───■─────────■───░───────\n",
       "     ├───┤ ░   │         │   ░       \n",
       "q_1: ┤ X ├─░───┼────■────■───░───────\n",
       "     └───┘ ░ ┌─┴─┐┌─┴─┐  │   ░ ┌─┐   \n",
       "q_2: ──────░─┤ X ├┤ X ├──┼───░─┤M├───\n",
       "           ░ └───┘└───┘┌─┴─┐ ░ └╥┘┌─┐\n",
       "q_3: ──────░───────────┤ X ├─░──╫─┤M├\n",
       "           ░           └───┘ ░  ║ └╥┘\n",
       "c: 2/═══════════════════════════╩══╩═\n",
       "                                0  1 </pre>"
      ],
      "text/plain": [
       "     ┌───┐ ░                 ░       \n",
       "q_0: ┤ X ├─░───■─────────■───░───────\n",
       "     ├───┤ ░   │         │   ░       \n",
       "q_1: ┤ X ├─░───┼────■────■───░───────\n",
       "     └───┘ ░ ┌─┴─┐┌─┴─┐  │   ░ ┌─┐   \n",
       "q_2: ──────░─┤ X ├┤ X ├──┼───░─┤M├───\n",
       "           ░ └───┘└───┘┌─┴─┐ ░ └╥┘┌─┐\n",
       "q_3: ──────░───────────┤ X ├─░──╫─┤M├\n",
       "           ░           └───┘ ░  ║ └╥┘\n",
       "c: 2/═══════════════════════════╩══╩═\n",
       "                                0  1 "
      ]
     },
     "execution_count": 6,
     "metadata": {},
     "output_type": "execute_result"
    }
   ],
   "source": [
    "# an example of using ccnot gate, a classical counterpart is the logical AND. \n",
    "qc_ha1 = QuantumCircuit(4,2)\n",
    "# encode inputs in qubits 0 and 1\n",
    "qc_ha1.x(0) # For a=0, remove the this line. For a=1, leave it.\n",
    "qc_ha1.x(1) # For b=0, remove the this line. For b=1, leave it.\n",
    "qc_ha1.barrier()\n",
    "# use cnots to write the XOR of the inputs on qubit 2\n",
    "qc_ha1.cx(0,2)\n",
    "qc_ha1.cx(1,2)\n",
    "# use ccx to write the AND of the inputs on qubit 3\n",
    "qc_ha1.ccx(0,1,3)\n",
    "qc_ha1.barrier()\n",
    "# extract outputs\n",
    "qc_ha1.measure(2,0) # extract XOR value\n",
    "qc_ha1.measure(3,1) # extract AND value\n",
    "\n",
    "qc_ha1.draw()"
   ]
  },
  {
   "cell_type": "code",
   "execution_count": 9,
   "metadata": {},
   "outputs": [
    {
     "data": {
      "image/png": "[encoded data removed]",
      "text/plain": [
       "<Figure size 504x360 with 1 Axes>"
      ]
     },
     "execution_count": 9,
     "metadata": {},
     "output_type": "execute_result"
    }
   ],
   "source": [
    "qobj = assemble(qc_ha1)\n",
    "counts = sim.run(qobj).result().get_counts()\n",
    "plot_histogram(counts)"
   ]
  },
  {
   "cell_type": "code",
   "execution_count": 10,
   "metadata": {},
   "outputs": [
    {
     "data": {
      "text/html": [
       "<h3>Version Information</h3><table><tr><th>Qiskit Software</th><th>Version</th></tr><tr><td><code>qiskit-terra</code></td><td>0.19.1</td></tr><tr><td><code>qiskit-aer</code></td><td>0.9.1</td></tr><tr><td><code>qiskit-ignis</code></td><td>0.7.0</td></tr><tr><td><code>qiskit-ibmq-provider</code></td><td>0.18.2</td></tr><tr><td><code>qiskit</code></td><td>0.33.1</td></tr><tr><th>System information</th></tr><tr><td>Python version</td><td>3.8.3</td></tr><tr><td>Python compiler</td><td>Clang 10.0.0 </td></tr><tr><td>Python build</td><td>default, Jul  2 2020 11:26:31</td></tr><tr><td>OS</td><td>Darwin</td></tr><tr><td>CPUs</td><td>4</td></tr><tr><td>Memory (Gb)</td><td>32.0</td></tr><tr><td colspan='2'>Wed Jun 01 18:56:33 2022 PDT</td></tr></table>"
      ],
      "text/plain": [
       "<IPython.core.display.HTML object>"
      ]
     },
     "metadata": {},
     "output_type": "display_data"
    }
   ],
   "source": [
    "import qiskit.tools.jupyter\n",
    "%qiskit_version_table"
   ]
  },
  {
   "cell_type": "code",
   "execution_count": null,
   "metadata": {},
   "outputs": [],
   "source": []
  }
 ],
 "metadata": {
  "kernelspec": {
   "display_name": "Python 3",
   "language": "python",
   "name": "python3"
  },
  "language_info": {
   "codemirror_mode": {
    "name": "ipython",
    "version": 3
   },
   "file_extension": ".py",
   "mimetype": "text/x-python",
   "name": "python",
   "nbconvert_exporter": "python",
   "pygments_lexer": "ipython3",
   "version": "3.8.3"
  }
 },
 "nbformat": 4,
 "nbformat_minor": 4
}
